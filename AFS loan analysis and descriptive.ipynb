{
 "cells": [
  {
   "cell_type": "markdown",
   "metadata": {},
   "source": [
    "# SUMMATIVE Assessment"
   ]
  },
  {
   "cell_type": "markdown",
   "metadata": {},
   "source": [
    "# Part 1: Construct a Programming Solution"
   ]
  },
  {
   "cell_type": "markdown",
   "metadata": {
    "id": "l5Xxs4uNXwqx"
   },
   "source": [
    "\n",
    "Data analysis is a multi-step process that involves understanding, processing, and deriving insights from data, typically using programming languages like Python due to its rich ecosystem of libraries. Here's a detailed breakdown of how data analysis might typically be conducted using Python:"
   ]
  },
  {
   "cell_type": "markdown",
   "metadata": {
    "id": "Uq02lsEEXwqz"
   },
   "source": [
    "### Task 1: Loan Data Automation"
   ]
  },
  {
   "cell_type": "raw",
   "metadata": {},
   "source": [
    "We are going to use the given dataset and then perform some anaysis by merging the both data and answer of the some quesitons using the exploratory data analysis. The details are given below. "
   ]
  },
  {
   "cell_type": "code",
   "execution_count": 32,
   "metadata": {
    "id": "RVPWTLl5Xwq1"
   },
   "outputs": [],
   "source": [
    "# Import necessary libraries for data visualization\n",
    "import matplotlib.pyplot as plt\n",
    "import seaborn as sns\n",
    "\n",
    "# Import NumPy for numerical computations\n",
    "import numpy as np\n",
    "\n",
    "# Import Pandas for data manipulation\n",
    "import pandas as pd\n",
    "\n",
    "# Import OpenPyXL for working with Excel files\n",
    "import openpyxl\n",
    "\n",
    "# Import read_pdf function from tabula package for reading PDF files\n",
    "from tabula import read_pdf\n",
    "\n",
    "# Import tabula for handling PDF files\n",
    "import tabula\n"
   ]
  },
  {
   "cell_type": "code",
   "execution_count": 33,
   "metadata": {
    "id": "c1bHJR22Xwq8"
   },
   "outputs": [
    {
     "name": "stderr",
     "output_type": "stream",
     "text": [
      "C:\\Users\\HP\\AppData\\Local\\Programs\\Python\\Python311\\Lib\\site-packages\\tabula\\io.py:1045: FutureWarning: errors='ignore' is deprecated and will raise in a future version. Use to_numeric without passing `errors` and catch exceptions explicitly instead\n",
      "  df[c] = pd.to_numeric(df[c], errors=\"ignore\")\n"
     ]
    }
   ],
   "source": [
    "# Import the PDF file dataset using tabula's read_pdf function\n",
    "APEX_Loans_Database_Table = tabula.read_pdf('APEX_Loans_Database_Table.pdf', pages=\"all\")\n",
    "\n",
    "# Export the PDF file data into a CSV file with conversion\n",
    "tabula.convert_into(\"APEX_Loans_Database_Table.pdf\", \"APEX_Loans_Database_Table.csv\", output_format=\"csv\", pages='all')\n"
   ]
  },
  {
   "cell_type": "code",
   "execution_count": 34,
   "metadata": {
    "colab": {
     "base_uri": "https://localhost:8080/",
     "height": 226
    },
    "id": "Ucz_pyZFXwq-",
    "outputId": "900500f2-2d4d-467c-a0fb-0d7c3449cf26"
   },
   "outputs": [
    {
     "data": {
      "text/html": [
       "<div>\n",
       "<style scoped>\n",
       "    .dataframe tbody tr th:only-of-type {\n",
       "        vertical-align: middle;\n",
       "    }\n",
       "\n",
       "    .dataframe tbody tr th {\n",
       "        vertical-align: top;\n",
       "    }\n",
       "\n",
       "    .dataframe thead th {\n",
       "        text-align: right;\n",
       "    }\n",
       "</style>\n",
       "<table border=\"1\" class=\"dataframe\">\n",
       "  <thead>\n",
       "    <tr style=\"text-align: right;\">\n",
       "      <th></th>\n",
       "      <th>Loan_ID</th>\n",
       "      <th>Gender</th>\n",
       "      <th>Married</th>\n",
       "      <th>Dependents</th>\n",
       "      <th>Graduate</th>\n",
       "      <th>Self_Employed</th>\n",
       "      <th>ApplicantIncome</th>\n",
       "      <th>CoapplicantIncome</th>\n",
       "      <th>LoanAmount</th>\n",
       "      <th>Loan_Amount_Term</th>\n",
       "      <th>Credit_History</th>\n",
       "      <th>Property_Area</th>\n",
       "      <th>Loan_Status</th>\n",
       "    </tr>\n",
       "  </thead>\n",
       "  <tbody>\n",
       "    <tr>\n",
       "      <th>393</th>\n",
       "      <td>2265</td>\n",
       "      <td>1</td>\n",
       "      <td>1</td>\n",
       "      <td>2</td>\n",
       "      <td>0</td>\n",
       "      <td>0</td>\n",
       "      <td>1993</td>\n",
       "      <td>1625.0</td>\n",
       "      <td>113</td>\n",
       "      <td>180</td>\n",
       "      <td>1</td>\n",
       "      <td>2</td>\n",
       "      <td>Y</td>\n",
       "    </tr>\n",
       "    <tr>\n",
       "      <th>394</th>\n",
       "      <td>2266</td>\n",
       "      <td>1</td>\n",
       "      <td>1</td>\n",
       "      <td>2</td>\n",
       "      <td>1</td>\n",
       "      <td>0</td>\n",
       "      <td>3100</td>\n",
       "      <td>1400.0</td>\n",
       "      <td>113</td>\n",
       "      <td>360</td>\n",
       "      <td>1</td>\n",
       "      <td>1</td>\n",
       "      <td>Y</td>\n",
       "    </tr>\n",
       "    <tr>\n",
       "      <th>395</th>\n",
       "      <td>2272</td>\n",
       "      <td>1</td>\n",
       "      <td>1</td>\n",
       "      <td>2</td>\n",
       "      <td>1</td>\n",
       "      <td>0</td>\n",
       "      <td>3276</td>\n",
       "      <td>484.0</td>\n",
       "      <td>135</td>\n",
       "      <td>360</td>\n",
       "      <td>0</td>\n",
       "      <td>2</td>\n",
       "      <td>Y</td>\n",
       "    </tr>\n",
       "    <tr>\n",
       "      <th>396</th>\n",
       "      <td>2277</td>\n",
       "      <td>2</td>\n",
       "      <td>0</td>\n",
       "      <td>0</td>\n",
       "      <td>1</td>\n",
       "      <td>0</td>\n",
       "      <td>3180</td>\n",
       "      <td>0.0</td>\n",
       "      <td>71</td>\n",
       "      <td>360</td>\n",
       "      <td>0</td>\n",
       "      <td>1</td>\n",
       "      <td>N</td>\n",
       "    </tr>\n",
       "    <tr>\n",
       "      <th>397</th>\n",
       "      <td>2281</td>\n",
       "      <td>1</td>\n",
       "      <td>1</td>\n",
       "      <td>0</td>\n",
       "      <td>1</td>\n",
       "      <td>0</td>\n",
       "      <td>3033</td>\n",
       "      <td>1459.0</td>\n",
       "      <td>95</td>\n",
       "      <td>360</td>\n",
       "      <td>1</td>\n",
       "      <td>1</td>\n",
       "      <td>Y</td>\n",
       "    </tr>\n",
       "  </tbody>\n",
       "</table>\n",
       "</div>"
      ],
      "text/plain": [
       "     Loan_ID  Gender  Married  Dependents  Graduate  Self_Employed  \\\n",
       "393     2265       1        1           2         0              0   \n",
       "394     2266       1        1           2         1              0   \n",
       "395     2272       1        1           2         1              0   \n",
       "396     2277       2        0           0         1              0   \n",
       "397     2281       1        1           0         1              0   \n",
       "\n",
       "     ApplicantIncome  CoapplicantIncome  LoanAmount  Loan_Amount_Term  \\\n",
       "393             1993             1625.0         113               180   \n",
       "394             3100             1400.0         113               360   \n",
       "395             3276              484.0         135               360   \n",
       "396             3180                0.0          71               360   \n",
       "397             3033             1459.0          95               360   \n",
       "\n",
       "     Credit_History  Property_Area Loan_Status  \n",
       "393               1              2           Y  \n",
       "394               1              1           Y  \n",
       "395               0              2           Y  \n",
       "396               0              1           N  \n",
       "397               1              1           Y  "
      ]
     },
     "execution_count": 34,
     "metadata": {},
     "output_type": "execute_result"
    }
   ],
   "source": [
    "# Now read the converted PDF file in CSV format for further analysis\n",
    "data = pd.read_csv(\"APEX_Loans_Database_Table.csv\")\n",
    "\n",
    "# Display the last 5 rows of the dataframe\n",
    "data.tail(5)\n"
   ]
  },
  {
   "cell_type": "code",
   "execution_count": 35,
   "metadata": {
    "colab": {
     "base_uri": "https://localhost:8080/"
    },
    "id": "uoxA2QtNXwrB",
    "outputId": "6ebf1624-fe5a-42ea-b293-a63f897a843a"
   },
   "outputs": [
    {
     "data": {
      "text/html": [
       "<div>\n",
       "<style scoped>\n",
       "    .dataframe tbody tr th:only-of-type {\n",
       "        vertical-align: middle;\n",
       "    }\n",
       "\n",
       "    .dataframe tbody tr th {\n",
       "        vertical-align: top;\n",
       "    }\n",
       "\n",
       "    .dataframe thead th {\n",
       "        text-align: right;\n",
       "    }\n",
       "</style>\n",
       "<table border=\"1\" class=\"dataframe\">\n",
       "  <thead>\n",
       "    <tr style=\"text-align: right;\">\n",
       "      <th></th>\n",
       "      <th>count</th>\n",
       "      <th>mean</th>\n",
       "      <th>std</th>\n",
       "      <th>min</th>\n",
       "      <th>25%</th>\n",
       "      <th>50%</th>\n",
       "      <th>75%</th>\n",
       "      <th>max</th>\n",
       "    </tr>\n",
       "  </thead>\n",
       "  <tbody>\n",
       "    <tr>\n",
       "      <th>Loan_ID</th>\n",
       "      <td>398.0</td>\n",
       "      <td>1657.125628</td>\n",
       "      <td>371.764584</td>\n",
       "      <td>1002.0</td>\n",
       "      <td>1343.5</td>\n",
       "      <td>1672.0</td>\n",
       "      <td>1954.75</td>\n",
       "      <td>2281.0</td>\n",
       "    </tr>\n",
       "    <tr>\n",
       "      <th>Gender</th>\n",
       "      <td>398.0</td>\n",
       "      <td>1.178392</td>\n",
       "      <td>0.383324</td>\n",
       "      <td>1.0</td>\n",
       "      <td>1.0</td>\n",
       "      <td>1.0</td>\n",
       "      <td>1.00</td>\n",
       "      <td>2.0</td>\n",
       "    </tr>\n",
       "    <tr>\n",
       "      <th>Married</th>\n",
       "      <td>398.0</td>\n",
       "      <td>0.650754</td>\n",
       "      <td>0.477332</td>\n",
       "      <td>0.0</td>\n",
       "      <td>0.0</td>\n",
       "      <td>1.0</td>\n",
       "      <td>1.00</td>\n",
       "      <td>1.0</td>\n",
       "    </tr>\n",
       "    <tr>\n",
       "      <th>Dependents</th>\n",
       "      <td>398.0</td>\n",
       "      <td>0.721106</td>\n",
       "      <td>1.011325</td>\n",
       "      <td>0.0</td>\n",
       "      <td>0.0</td>\n",
       "      <td>0.0</td>\n",
       "      <td>1.00</td>\n",
       "      <td>3.0</td>\n",
       "    </tr>\n",
       "    <tr>\n",
       "      <th>Graduate</th>\n",
       "      <td>398.0</td>\n",
       "      <td>0.809045</td>\n",
       "      <td>0.393548</td>\n",
       "      <td>0.0</td>\n",
       "      <td>1.0</td>\n",
       "      <td>1.0</td>\n",
       "      <td>1.00</td>\n",
       "      <td>1.0</td>\n",
       "    </tr>\n",
       "    <tr>\n",
       "      <th>Self_Employed</th>\n",
       "      <td>398.0</td>\n",
       "      <td>0.123116</td>\n",
       "      <td>0.328983</td>\n",
       "      <td>0.0</td>\n",
       "      <td>0.0</td>\n",
       "      <td>0.0</td>\n",
       "      <td>0.00</td>\n",
       "      <td>1.0</td>\n",
       "    </tr>\n",
       "    <tr>\n",
       "      <th>ApplicantIncome</th>\n",
       "      <td>398.0</td>\n",
       "      <td>5341.944724</td>\n",
       "      <td>5723.445768</td>\n",
       "      <td>150.0</td>\n",
       "      <td>2940.5</td>\n",
       "      <td>3861.5</td>\n",
       "      <td>5688.00</td>\n",
       "      <td>63337.0</td>\n",
       "    </tr>\n",
       "    <tr>\n",
       "      <th>CoapplicantIncome</th>\n",
       "      <td>398.0</td>\n",
       "      <td>1504.077387</td>\n",
       "      <td>1850.253352</td>\n",
       "      <td>0.0</td>\n",
       "      <td>0.0</td>\n",
       "      <td>1221.0</td>\n",
       "      <td>2332.25</td>\n",
       "      <td>11300.0</td>\n",
       "    </tr>\n",
       "    <tr>\n",
       "      <th>LoanAmount</th>\n",
       "      <td>398.0</td>\n",
       "      <td>145.371859</td>\n",
       "      <td>83.941460</td>\n",
       "      <td>17.0</td>\n",
       "      <td>102.5</td>\n",
       "      <td>128.0</td>\n",
       "      <td>163.00</td>\n",
       "      <td>700.0</td>\n",
       "    </tr>\n",
       "    <tr>\n",
       "      <th>Loan_Amount_Term</th>\n",
       "      <td>398.0</td>\n",
       "      <td>344.020101</td>\n",
       "      <td>63.458665</td>\n",
       "      <td>36.0</td>\n",
       "      <td>360.0</td>\n",
       "      <td>360.0</td>\n",
       "      <td>360.00</td>\n",
       "      <td>480.0</td>\n",
       "    </tr>\n",
       "    <tr>\n",
       "      <th>Credit_History</th>\n",
       "      <td>398.0</td>\n",
       "      <td>0.791457</td>\n",
       "      <td>0.406778</td>\n",
       "      <td>0.0</td>\n",
       "      <td>1.0</td>\n",
       "      <td>1.0</td>\n",
       "      <td>1.00</td>\n",
       "      <td>1.0</td>\n",
       "    </tr>\n",
       "    <tr>\n",
       "      <th>Property_Area</th>\n",
       "      <td>398.0</td>\n",
       "      <td>1.894472</td>\n",
       "      <td>0.786485</td>\n",
       "      <td>1.0</td>\n",
       "      <td>1.0</td>\n",
       "      <td>2.0</td>\n",
       "      <td>3.00</td>\n",
       "      <td>3.0</td>\n",
       "    </tr>\n",
       "  </tbody>\n",
       "</table>\n",
       "</div>"
      ],
      "text/plain": [
       "                   count         mean          std     min     25%     50%  \\\n",
       "Loan_ID            398.0  1657.125628   371.764584  1002.0  1343.5  1672.0   \n",
       "Gender             398.0     1.178392     0.383324     1.0     1.0     1.0   \n",
       "Married            398.0     0.650754     0.477332     0.0     0.0     1.0   \n",
       "Dependents         398.0     0.721106     1.011325     0.0     0.0     0.0   \n",
       "Graduate           398.0     0.809045     0.393548     0.0     1.0     1.0   \n",
       "Self_Employed      398.0     0.123116     0.328983     0.0     0.0     0.0   \n",
       "ApplicantIncome    398.0  5341.944724  5723.445768   150.0  2940.5  3861.5   \n",
       "CoapplicantIncome  398.0  1504.077387  1850.253352     0.0     0.0  1221.0   \n",
       "LoanAmount         398.0   145.371859    83.941460    17.0   102.5   128.0   \n",
       "Loan_Amount_Term   398.0   344.020101    63.458665    36.0   360.0   360.0   \n",
       "Credit_History     398.0     0.791457     0.406778     0.0     1.0     1.0   \n",
       "Property_Area      398.0     1.894472     0.786485     1.0     1.0     2.0   \n",
       "\n",
       "                       75%      max  \n",
       "Loan_ID            1954.75   2281.0  \n",
       "Gender                1.00      2.0  \n",
       "Married               1.00      1.0  \n",
       "Dependents            1.00      3.0  \n",
       "Graduate              1.00      1.0  \n",
       "Self_Employed         0.00      1.0  \n",
       "ApplicantIncome    5688.00  63337.0  \n",
       "CoapplicantIncome  2332.25  11300.0  \n",
       "LoanAmount          163.00    700.0  \n",
       "Loan_Amount_Term    360.00    480.0  \n",
       "Credit_History        1.00      1.0  \n",
       "Property_Area         3.00      3.0  "
      ]
     },
     "execution_count": 35,
     "metadata": {},
     "output_type": "execute_result"
    }
   ],
   "source": [
    "# Summary stats of the dataset\n",
    "data.describe().T"
   ]
  },
  {
   "cell_type": "code",
   "execution_count": 36,
   "metadata": {
    "colab": {
     "base_uri": "https://localhost:8080/",
     "height": 226
    },
    "id": "lFIcXD8iXwrE",
    "outputId": "8238d25b-4591-4535-ef87-14c9e64caaf2"
   },
   "outputs": [
    {
     "data": {
      "text/html": [
       "<div>\n",
       "<style scoped>\n",
       "    .dataframe tbody tr th:only-of-type {\n",
       "        vertical-align: middle;\n",
       "    }\n",
       "\n",
       "    .dataframe tbody tr th {\n",
       "        vertical-align: top;\n",
       "    }\n",
       "\n",
       "    .dataframe thead th {\n",
       "        text-align: right;\n",
       "    }\n",
       "</style>\n",
       "<table border=\"1\" class=\"dataframe\">\n",
       "  <thead>\n",
       "    <tr style=\"text-align: right;\">\n",
       "      <th></th>\n",
       "      <th>Loan_ID</th>\n",
       "      <th>Gender</th>\n",
       "      <th>Married</th>\n",
       "      <th>Dependents</th>\n",
       "      <th>Graduate</th>\n",
       "      <th>Self_Employed</th>\n",
       "      <th>ApplicantIncome</th>\n",
       "      <th>CoapplicantIncome</th>\n",
       "      <th>LoanAmount</th>\n",
       "      <th>Loan_Amount_Term</th>\n",
       "      <th>Credit_History</th>\n",
       "      <th>Property_Area</th>\n",
       "      <th>Loan_Status</th>\n",
       "    </tr>\n",
       "  </thead>\n",
       "  <tbody>\n",
       "    <tr>\n",
       "      <th>242</th>\n",
       "      <td>2978</td>\n",
       "      <td>2</td>\n",
       "      <td>0</td>\n",
       "      <td>0</td>\n",
       "      <td>1</td>\n",
       "      <td>0</td>\n",
       "      <td>2900</td>\n",
       "      <td>0.0</td>\n",
       "      <td>71</td>\n",
       "      <td>333</td>\n",
       "      <td>1</td>\n",
       "      <td>3</td>\n",
       "      <td>Y</td>\n",
       "    </tr>\n",
       "    <tr>\n",
       "      <th>243</th>\n",
       "      <td>2979</td>\n",
       "      <td>1</td>\n",
       "      <td>1</td>\n",
       "      <td>3</td>\n",
       "      <td>1</td>\n",
       "      <td>0</td>\n",
       "      <td>4106</td>\n",
       "      <td>0.0</td>\n",
       "      <td>40</td>\n",
       "      <td>180</td>\n",
       "      <td>1</td>\n",
       "      <td>3</td>\n",
       "      <td>Y</td>\n",
       "    </tr>\n",
       "    <tr>\n",
       "      <th>244</th>\n",
       "      <td>2983</td>\n",
       "      <td>1</td>\n",
       "      <td>1</td>\n",
       "      <td>1</td>\n",
       "      <td>1</td>\n",
       "      <td>0</td>\n",
       "      <td>8072</td>\n",
       "      <td>240.0</td>\n",
       "      <td>253</td>\n",
       "      <td>333</td>\n",
       "      <td>1</td>\n",
       "      <td>1</td>\n",
       "      <td>Y</td>\n",
       "    </tr>\n",
       "    <tr>\n",
       "      <th>245</th>\n",
       "      <td>2984</td>\n",
       "      <td>1</td>\n",
       "      <td>1</td>\n",
       "      <td>2</td>\n",
       "      <td>1</td>\n",
       "      <td>0</td>\n",
       "      <td>7583</td>\n",
       "      <td>0.0</td>\n",
       "      <td>187</td>\n",
       "      <td>333</td>\n",
       "      <td>1</td>\n",
       "      <td>1</td>\n",
       "      <td>Y</td>\n",
       "    </tr>\n",
       "    <tr>\n",
       "      <th>246</th>\n",
       "      <td>2990</td>\n",
       "      <td>2</td>\n",
       "      <td>0</td>\n",
       "      <td>0</td>\n",
       "      <td>1</td>\n",
       "      <td>1</td>\n",
       "      <td>4583</td>\n",
       "      <td>0.0</td>\n",
       "      <td>133</td>\n",
       "      <td>333</td>\n",
       "      <td>0</td>\n",
       "      <td>2</td>\n",
       "      <td>N</td>\n",
       "    </tr>\n",
       "  </tbody>\n",
       "</table>\n",
       "</div>"
      ],
      "text/plain": [
       "     Loan_ID  Gender  Married  Dependents  Graduate  Self_Employed  \\\n",
       "242     2978       2        0           0         1              0   \n",
       "243     2979       1        1           3         1              0   \n",
       "244     2983       1        1           1         1              0   \n",
       "245     2984       1        1           2         1              0   \n",
       "246     2990       2        0           0         1              1   \n",
       "\n",
       "     ApplicantIncome  CoapplicantIncome  LoanAmount  Loan_Amount_Term  \\\n",
       "242             2900                0.0          71               333   \n",
       "243             4106                0.0          40               180   \n",
       "244             8072              240.0         253               333   \n",
       "245             7583                0.0         187               333   \n",
       "246             4583                0.0         133               333   \n",
       "\n",
       "     Credit_History  Property_Area Loan_Status  \n",
       "242               1              3           Y  \n",
       "243               1              3           Y  \n",
       "244               1              1           Y  \n",
       "245               1              1           Y  \n",
       "246               0              2           N  "
      ]
     },
     "execution_count": 36,
     "metadata": {},
     "output_type": "execute_result"
    }
   ],
   "source": [
    "# Read the Excel dataset\n",
    "data1 = pd.read_excel('APEX Loan Data.xlsx')\n",
    "\n",
    "# Display the last 5 rows of the dataframe\n",
    "data1.tail(5)\n"
   ]
  },
  {
   "cell_type": "code",
   "execution_count": 37,
   "metadata": {
    "id": "tT8JrGX2pGER"
   },
   "outputs": [
    {
     "data": {
      "text/html": [
       "<div>\n",
       "<style scoped>\n",
       "    .dataframe tbody tr th:only-of-type {\n",
       "        vertical-align: middle;\n",
       "    }\n",
       "\n",
       "    .dataframe tbody tr th {\n",
       "        vertical-align: top;\n",
       "    }\n",
       "\n",
       "    .dataframe thead th {\n",
       "        text-align: right;\n",
       "    }\n",
       "</style>\n",
       "<table border=\"1\" class=\"dataframe\">\n",
       "  <thead>\n",
       "    <tr style=\"text-align: right;\">\n",
       "      <th></th>\n",
       "      <th>Loan_ID</th>\n",
       "      <th>Gender</th>\n",
       "      <th>Married</th>\n",
       "      <th>Dependents</th>\n",
       "      <th>Graduate</th>\n",
       "      <th>Self_Employed</th>\n",
       "      <th>ApplicantIncome</th>\n",
       "      <th>CoapplicantIncome</th>\n",
       "      <th>LoanAmount</th>\n",
       "      <th>Loan_Amount_Term</th>\n",
       "      <th>Credit_History</th>\n",
       "      <th>Property_Area</th>\n",
       "      <th>Loan_Status</th>\n",
       "    </tr>\n",
       "  </thead>\n",
       "  <tbody>\n",
       "    <tr>\n",
       "      <th>242</th>\n",
       "      <td>2978</td>\n",
       "      <td>2</td>\n",
       "      <td>0</td>\n",
       "      <td>0</td>\n",
       "      <td>1</td>\n",
       "      <td>0</td>\n",
       "      <td>2900</td>\n",
       "      <td>0.0</td>\n",
       "      <td>71</td>\n",
       "      <td>333</td>\n",
       "      <td>1</td>\n",
       "      <td>3</td>\n",
       "      <td>Y</td>\n",
       "    </tr>\n",
       "    <tr>\n",
       "      <th>243</th>\n",
       "      <td>2979</td>\n",
       "      <td>1</td>\n",
       "      <td>1</td>\n",
       "      <td>3</td>\n",
       "      <td>1</td>\n",
       "      <td>0</td>\n",
       "      <td>4106</td>\n",
       "      <td>0.0</td>\n",
       "      <td>40</td>\n",
       "      <td>180</td>\n",
       "      <td>1</td>\n",
       "      <td>3</td>\n",
       "      <td>Y</td>\n",
       "    </tr>\n",
       "    <tr>\n",
       "      <th>244</th>\n",
       "      <td>2983</td>\n",
       "      <td>1</td>\n",
       "      <td>1</td>\n",
       "      <td>1</td>\n",
       "      <td>1</td>\n",
       "      <td>0</td>\n",
       "      <td>8072</td>\n",
       "      <td>240.0</td>\n",
       "      <td>253</td>\n",
       "      <td>333</td>\n",
       "      <td>1</td>\n",
       "      <td>1</td>\n",
       "      <td>Y</td>\n",
       "    </tr>\n",
       "    <tr>\n",
       "      <th>245</th>\n",
       "      <td>2984</td>\n",
       "      <td>1</td>\n",
       "      <td>1</td>\n",
       "      <td>2</td>\n",
       "      <td>1</td>\n",
       "      <td>0</td>\n",
       "      <td>7583</td>\n",
       "      <td>0.0</td>\n",
       "      <td>187</td>\n",
       "      <td>333</td>\n",
       "      <td>1</td>\n",
       "      <td>1</td>\n",
       "      <td>Y</td>\n",
       "    </tr>\n",
       "    <tr>\n",
       "      <th>246</th>\n",
       "      <td>2990</td>\n",
       "      <td>2</td>\n",
       "      <td>0</td>\n",
       "      <td>0</td>\n",
       "      <td>1</td>\n",
       "      <td>1</td>\n",
       "      <td>4583</td>\n",
       "      <td>0.0</td>\n",
       "      <td>133</td>\n",
       "      <td>333</td>\n",
       "      <td>0</td>\n",
       "      <td>2</td>\n",
       "      <td>N</td>\n",
       "    </tr>\n",
       "  </tbody>\n",
       "</table>\n",
       "</div>"
      ],
      "text/plain": [
       "     Loan_ID  Gender  Married  Dependents  Graduate  Self_Employed  \\\n",
       "242     2978       2        0           0         1              0   \n",
       "243     2979       1        1           3         1              0   \n",
       "244     2983       1        1           1         1              0   \n",
       "245     2984       1        1           2         1              0   \n",
       "246     2990       2        0           0         1              1   \n",
       "\n",
       "     ApplicantIncome  CoapplicantIncome  LoanAmount  Loan_Amount_Term  \\\n",
       "242             2900                0.0          71               333   \n",
       "243             4106                0.0          40               180   \n",
       "244             8072              240.0         253               333   \n",
       "245             7583                0.0         187               333   \n",
       "246             4583                0.0         133               333   \n",
       "\n",
       "     Credit_History  Property_Area Loan_Status  \n",
       "242               1              3           Y  \n",
       "243               1              3           Y  \n",
       "244               1              1           Y  \n",
       "245               1              1           Y  \n",
       "246               0              2           N  "
      ]
     },
     "execution_count": 37,
     "metadata": {},
     "output_type": "execute_result"
    }
   ],
   "source": [
    "# Concatenate both datasets to perform further analysis\n",
    "merge_data = [data, data1]\n",
    "\n",
    "# Concatenate the datasets vertically\n",
    "full_data = pd.concat(merge_data)\n",
    "\n",
    "# Display the last 5 rows of the concatenated dataframe\n",
    "full_data.tail(5)\n"
   ]
  },
  {
   "cell_type": "code",
   "execution_count": 38,
   "metadata": {},
   "outputs": [
    {
     "name": "stdout",
     "output_type": "stream",
     "text": [
      "<class 'pandas.core.frame.DataFrame'>\n",
      "Index: 645 entries, 0 to 246\n",
      "Data columns (total 13 columns):\n",
      " #   Column             Non-Null Count  Dtype  \n",
      "---  ------             --------------  -----  \n",
      " 0   Loan_ID            645 non-null    int64  \n",
      " 1   Gender             645 non-null    int64  \n",
      " 2   Married            645 non-null    int64  \n",
      " 3   Dependents         645 non-null    int64  \n",
      " 4   Graduate           645 non-null    int64  \n",
      " 5   Self_Employed      645 non-null    int64  \n",
      " 6   ApplicantIncome    645 non-null    int64  \n",
      " 7   CoapplicantIncome  645 non-null    float64\n",
      " 8   LoanAmount         645 non-null    int64  \n",
      " 9   Loan_Amount_Term   645 non-null    int64  \n",
      " 10  Credit_History     645 non-null    int64  \n",
      " 11  Property_Area      645 non-null    int64  \n",
      " 12  Loan_Status        645 non-null    object \n",
      "dtypes: float64(1), int64(11), object(1)\n",
      "memory usage: 70.5+ KB\n"
     ]
    }
   ],
   "source": [
    "# Display information about the full dataset structure\n",
    "full_data.info()"
   ]
  },
  {
   "cell_type": "markdown",
   "metadata": {
    "id": "norU-3beXwrF"
   },
   "source": [
    "### Task 2: Descriptive Analysis"
   ]
  },
  {
   "cell_type": "markdown",
   "metadata": {},
   "source": [
    "The datasets have been successfully merged, enabling us to delve into a comprehensive descriptive analysis. At this stage, we aim to scrutinize the combined dataset meticulously to extract meaningful insights. This involves a detailed examination of various aspects by giving the answer of the questions. Through this process, we endeavor to gain a profound understanding of the dataset's characteristics, paving the way for informed decision-making and actionable insights."
   ]
  },
  {
   "cell_type": "markdown",
   "metadata": {
    "id": "qCHNPDYrXwrI"
   },
   "source": [
    "### Data Cleaning Process"
   ]
  },
  {
   "cell_type": "markdown",
   "metadata": {},
   "source": [
    "This critical step in the data analysis process is indispensable for preparing the dataset to undertake predictive analysis effectively. By conducting a meticulous descriptive analysis, we lay the groundwork for subsequent predictive modeling tasks. Through thorough examination and understanding of the dataset's nuances, including its cleaniness we ensure that the data is appropriately processed and cleansed. "
   ]
  },
  {
   "cell_type": "code",
   "execution_count": 39,
   "metadata": {
    "colab": {
     "base_uri": "https://localhost:8080/"
    },
    "id": "s-dI7-EkXwrJ",
    "outputId": "3e5233d8-f4d5-4ed1-d5a8-a2246bd1f86b"
   },
   "outputs": [
    {
     "name": "stdout",
     "output_type": "stream",
     "text": [
      "Loan_ID              0\n",
      "Gender               0\n",
      "Married              0\n",
      "Dependents           0\n",
      "Graduate             0\n",
      "Self_Employed        0\n",
      "ApplicantIncome      0\n",
      "CoapplicantIncome    0\n",
      "LoanAmount           0\n",
      "Loan_Amount_Term     0\n",
      "Credit_History       0\n",
      "Property_Area        0\n",
      "Loan_Status          0\n",
      "dtype: int64\n"
     ]
    }
   ],
   "source": [
    "print(full_data.isnull().sum())  # Display the count of missing values for each column in df_final\n"
   ]
  },
  {
   "cell_type": "code",
   "execution_count": 40,
   "metadata": {
    "colab": {
     "base_uri": "https://localhost:8080/"
    },
    "id": "Qt4RM1RxXwrJ",
    "outputId": "fc1ef160-3e00-4c4e-de56-2c7add35e52a"
   },
   "outputs": [
    {
     "name": "stdout",
     "output_type": "stream",
     "text": [
      "Number of duplicate rows: 3\n",
      "<class 'pandas.core.frame.DataFrame'>\n",
      "Index: 642 entries, 0 to 246\n",
      "Data columns (total 13 columns):\n",
      " #   Column             Non-Null Count  Dtype  \n",
      "---  ------             --------------  -----  \n",
      " 0   Loan_ID            642 non-null    int64  \n",
      " 1   Gender             642 non-null    int64  \n",
      " 2   Married            642 non-null    int64  \n",
      " 3   Dependents         642 non-null    int64  \n",
      " 4   Graduate           642 non-null    int64  \n",
      " 5   Self_Employed      642 non-null    int64  \n",
      " 6   ApplicantIncome    642 non-null    int64  \n",
      " 7   CoapplicantIncome  642 non-null    float64\n",
      " 8   LoanAmount         642 non-null    int64  \n",
      " 9   Loan_Amount_Term   642 non-null    int64  \n",
      " 10  Credit_History     642 non-null    int64  \n",
      " 11  Property_Area      642 non-null    int64  \n",
      " 12  Loan_Status        642 non-null    object \n",
      "dtypes: float64(1), int64(11), object(1)\n",
      "memory usage: 70.2+ KB\n"
     ]
    }
   ],
   "source": [
    "dup = full_data.duplicated().sum()  # Count the duplicate rows\n",
    "print(\"Number of duplicate rows:\", dup)  # Print the information about duplicate rows\n",
    "full_data1 = full_data.drop_duplicates()  # Remove duplicate rows\n",
    "full_data1.info()  # Display information about the dataframe after removing duplicates\n"
   ]
  },
  {
   "cell_type": "markdown",
   "metadata": {
    "id": "jNZhGFdDXwrK"
   },
   "source": [
    "## Exploratory Data Analysis (EDA) Phase"
   ]
  },
  {
   "cell_type": "markdown",
   "metadata": {},
   "source": [
    "## 1. The total amount loaned by AFS."
   ]
  },
  {
   "cell_type": "code",
   "execution_count": 41,
   "metadata": {
    "colab": {
     "base_uri": "https://localhost:8080/"
    },
    "id": "gFdc6VgKwH-K",
    "outputId": "0a110709-f555-497d-8e32-988d352a4ade"
   },
   "outputs": [
    {
     "name": "stdout",
     "output_type": "stream",
     "text": [
      "Total amount loaned by AFS: 95164\n"
     ]
    }
   ],
   "source": [
    "total_loan_amount = full_data1['LoanAmount'].sum()  # Sum of 'LoanAmount' for total loaned amount\n",
    "print(\"Total amount loaned by AFS:\", total_loan_amount)\n"
   ]
  },
  {
   "cell_type": "markdown",
   "metadata": {},
   "source": [
    "## 2. The average amount loaned."
   ]
  },
  {
   "cell_type": "code",
   "execution_count": 42,
   "metadata": {
    "colab": {
     "base_uri": "https://localhost:8080/"
    },
    "id": "i7T5Uws0xR5H",
    "outputId": "6cc9c723-6e8b-4aff-a81f-41a8d0da6b0b"
   },
   "outputs": [
    {
     "name": "stdout",
     "output_type": "stream",
     "text": [
      "Average amount loaned: 148.23052959501558\n"
     ]
    }
   ],
   "source": [
    "average_loan_amount = full_data1['LoanAmount'].mean()  # Average of 'LoanAmount'\n",
    "print(\"Average amount loaned:\", average_loan_amount)"
   ]
  },
  {
   "cell_type": "markdown",
   "metadata": {},
   "source": [
    "## 3. The average loan term."
   ]
  },
  {
   "cell_type": "code",
   "execution_count": 43,
   "metadata": {
    "colab": {
     "base_uri": "https://localhost:8080/"
    },
    "id": "j2Nd4-9IxR8V",
    "outputId": "6159db53-ff52-43ff-b43f-42853944e549"
   },
   "outputs": [
    {
     "name": "stdout",
     "output_type": "stream",
     "text": [
      "Average loan term: 334.4392523364486\n"
     ]
    }
   ],
   "source": [
    "average_loan_term = full_data1['Loan_Amount_Term'].mean()  # Average of 'Loan_Amount_Term'\n",
    "print(\"Average loan term:\", average_loan_term)\n"
   ]
  },
  {
   "cell_type": "markdown",
   "metadata": {},
   "source": [
    "## 4. The total number of applicants broken down into Approved and Rejected,the number of males and female in each case, and shown in an appropriate chart.."
   ]
  },
  {
   "cell_type": "code",
   "execution_count": 51,
   "metadata": {
    "scrolled": true
   },
   "outputs": [
    {
     "name": "stdout",
     "output_type": "stream",
     "text": [
      "Number of applicants (Approved/Rejected):\n",
      "Loan_Status\n",
      "Y    444\n",
      "N    198\n",
      "Name: count, dtype: int64\n"
     ]
    },
    {
     "data": {
      "image/png": "[encoded data removed]",
      "text/plain": [
       "<Figure size 800x500 with 1 Axes>"
      ]
     },
     "metadata": {},
     "output_type": "display_data"
    }
   ],
   "source": [
    "\n",
    "# The total number of applicants broken down into Approved and Rejected\n",
    "status_counts = full_data1['Loan_Status'].value_counts()  # Counts of each loan status\n",
    "print(\"Number of applicants (Approved/Rejected):\")\n",
    "print(status_counts)\n",
    "\n",
    "# Plotting the number of applicants by approval status\n",
    "plt.figure(figsize=(8, 5))\n",
    "status_counts.plot(kind='bar', color=['green', 'red'])\n",
    "plt.title('Number of Applicants by Loan Status')\n",
    "plt.xlabel('Loan Status')\n",
    "plt.ylabel('Number of Applicants')\n",
    "plt.show()\n",
    "\n"
   ]
  },
  {
   "cell_type": "code",
   "execution_count": 52,
   "metadata": {},
   "outputs": [
    {
     "name": "stdout",
     "output_type": "stream",
     "text": [
      "Number of males and females in each case (Approved and Rejected):\n",
      "Loan_Status  Gender\n",
      "N            1         161\n",
      "             2          37\n",
      "Y            1         364\n",
      "             2          80\n",
      "Name: Gender, dtype: int64\n"
     ]
    },
    {
     "data": {
      "text/plain": [
       "<Figure size 800x500 with 0 Axes>"
      ]
     },
     "metadata": {},
     "output_type": "display_data"
    },
    {
     "data": {
      "image/png": "[encoded data removed]",
      "text/plain": [
       "<Figure size 640x480 with 1 Axes>"
      ]
     },
     "metadata": {},
     "output_type": "display_data"
    }
   ],
   "source": [
    "# The number of males and females in each case (Approved and Rejected)\n",
    "# Assuming 'Gender' coded as 0 for female and 1 for male\n",
    "gender_status_counts = full_data1.groupby(['Loan_Status', 'Gender'])['Gender'].count()  # Group by 'Loan_Status' and 'Gender'\n",
    "print(\"Number of males and females in each case (Approved and Rejected):\")\n",
    "print(gender_status_counts)\n",
    "\n",
    "# Plotting the number of males and females in each case\n",
    "plt.figure(figsize=(8, 5))\n",
    "gender_status_counts.unstack().plot(kind='bar', color=['blue', 'pink'])\n",
    "plt.title('Gender Distribution by Loan Status')\n",
    "plt.xlabel('Loan Status')\n",
    "plt.ylabel('Number of Applicants')\n",
    "plt.show()"
   ]
  },
  {
   "cell_type": "markdown",
   "metadata": {},
   "source": [
    "## 5. The maximum and minimum of amounts loaned and shown in an appropriate chart."
   ]
  },
  {
   "cell_type": "code",
   "execution_count": 45,
   "metadata": {},
   "outputs": [
    {
     "name": "stdout",
     "output_type": "stream",
     "text": [
      "Maximum amount loaned: 700\n",
      "Minimum amount loaned: 9\n"
     ]
    },
    {
     "data": {
      "image/png": "[encoded data removed]",
      "text/plain": [
       "<Figure size 800x500 with 1 Axes>"
      ]
     },
     "metadata": {},
     "output_type": "display_data"
    }
   ],
   "source": [
    "# The maximum and minimum of amounts loaned\n",
    "max_loan_amount = full_data1['LoanAmount'].max()  # Maximum of 'LoanAmount'\n",
    "min_loan_amount = full_data1['LoanAmount'].min()  # Minimum of 'LoanAmount'\n",
    "print(\"Maximum amount loaned:\", max_loan_amount)\n",
    "print(\"Minimum amount loaned:\", min_loan_amount)\n",
    "\n",
    "# Plotting max and min amounts loaned\n",
    "plt.figure(figsize=(8, 5))\n",
    "plt.bar(['Max Amount Loaned', 'Min Amount Loaned'], [max_loan_amount, min_loan_amount], color=['gold', 'silver'])\n",
    "plt.title('Max and Min Loan Amounts')\n",
    "plt.ylabel('Amount Loaned')\n",
    "plt.show()"
   ]
  },
  {
   "cell_type": "markdown",
   "metadata": {},
   "source": [
    "## 6. The number of self-employed who had their loan approved, expressed as a percentage of all who had their loan approved, and shown in an appropriate chart.."
   ]
  },
  {
   "cell_type": "code",
   "execution_count": 47,
   "metadata": {
    "colab": {
     "base_uri": "https://localhost:8080/",
     "height": 446
    },
    "id": "CTRP5CvixSJ4",
    "outputId": "96fb3e87-d570-436f-a604-51aa4c7a5300"
   },
   "outputs": [
    {
     "data": {
      "image/png": "[encoded data removed]",
      "text/plain": [
       "<Figure size 640x480 with 1 Axes>"
      ]
     },
     "metadata": {},
     "output_type": "display_data"
    }
   ],
   "source": [
    "# Filtering approved loans\n",
    "approved_loans = full_data1[full_data1['Loan_Status'] == 'Y']\n",
    "\n",
    "# Counting self-employed who got their loans approved\n",
    "self_employed_approved = approved_loans[approved_loans['Self_Employed'] == 1].shape[0]\n",
    "\n",
    "# Calculating the percentage of approved loans that went to self-employed individuals\n",
    "total_approved = approved_loans.shape[0]\n",
    "percentage_self_employed_approved = (self_employed_approved / total_approved) * 100\n",
    "\n",
    "# Data for the donut chart\n",
    "sizes = [percentage_self_employed_approved, 100 - percentage_self_employed_approved]\n",
    "labels = ['Self-Employed Approved', 'Other Approved']\n",
    "colors = ['purple', 'grey']\n",
    "\n",
    "# Plotting the donut chart\n",
    "fig, ax = plt.subplots()\n",
    "ax.pie(sizes, labels=labels, colors=colors, autopct='%1.1f%%', startangle=90, pctdistance=0.85)\n",
    "ax.axis('equal')  # Equal aspect ratio ensures that pie is drawn as a circle.\n",
    "\n",
    "# Draw a circle at the center of pie to make it look like a donut\n",
    "centre_circle = plt.Circle((0,0),0.70,fc='white')\n",
    "fig.gca().add_artist(centre_circle)\n",
    "\n",
    "plt.title('Percentage of Self-Employed Approved Loans')\n",
    "plt.show()\n"
   ]
  },
  {
   "cell_type": "markdown",
   "metadata": {},
   "source": [
    "## 7. The income distribution of all main applicants, showing average and standard deviation."
   ]
  },
  {
   "cell_type": "code",
   "execution_count": 48,
   "metadata": {},
   "outputs": [
    {
     "data": {
      "image/png": "[encoded data removed]",
      "text/plain": [
       "<Figure size 1000x600 with 1 Axes>"
      ]
     },
     "metadata": {},
     "output_type": "display_data"
    }
   ],
   "source": [
    "# Calculating the mean and standard deviation of the ApplicantIncome\n",
    "mean_income = full_data1['ApplicantIncome'].mean()\n",
    "std_dev_income = full_data1['ApplicantIncome'].std()\n",
    "\n",
    "# Plotting the income distribution\n",
    "plt.figure(figsize=(10, 6))\n",
    "plt.hist(full_data1['ApplicantIncome'], bins=30, color='blue', alpha=0.7)\n",
    "plt.axvline(mean_income, color='red', linestyle='dashed', linewidth=2, label=f'Mean: {mean_income:.2f}')\n",
    "plt.axvline(mean_income + std_dev_income, color='green', linestyle='dashed', linewidth=2, label=f'+1 STD: {mean_income + std_dev_income:.2f}')\n",
    "plt.axvline(mean_income - std_dev_income, color='green', linestyle='dashed', linewidth=2, label=f'-1 STD: {mean_income - std_dev_income:.2f}')\n",
    "plt.title('Distribution of Applicant Income')\n",
    "plt.xlabel('Income')\n",
    "plt.ylabel('Frequency')\n",
    "plt.legend()\n",
    "plt.show()\n"
   ]
  },
  {
   "cell_type": "markdown",
   "metadata": {},
   "source": [
    "## 8. The top ten applicants by loan amount"
   ]
  },
  {
   "cell_type": "code",
   "execution_count": 49,
   "metadata": {},
   "outputs": [
    {
     "name": "stdout",
     "output_type": "stream",
     "text": [
      "Top Ten Applicants by Loan Amount:\n",
      "     Loan_ID  ApplicantIncome  LoanAmount\n",
      "171     1585            51763         700\n",
      "130     1469            20166         650\n",
      "155     1536            39999         600\n",
      "194     2813            19484         600\n",
      "369     2191            19730         570\n",
      "120     2547            18333         500\n",
      "237     2959            12000         496\n",
      "177     1610             5516         495\n",
      "333     2101            63337         490\n",
      "139     2624            20833         480\n"
     ]
    }
   ],
   "source": [
    "# Sorting the DataFrame by 'LoanAmount' in descending order and selecting the top 10\n",
    "top_ten_applicants = full_data1.sort_values(by='LoanAmount', ascending=False).head(10)\n",
    "\n",
    "# Printing the top ten applicants\n",
    "print(\"Top Ten Applicants by Loan Amount:\")\n",
    "print(top_ten_applicants[['Loan_ID', 'ApplicantIncome', 'LoanAmount']])\n"
   ]
  },
  {
   "cell_type": "markdown",
   "metadata": {},
   "source": [
    "## 9. The distribution of properties (rural, urban etc) of all loan applicants, shown in an appropriate chart."
   ]
  },
  {
   "cell_type": "code",
   "execution_count": 50,
   "metadata": {},
   "outputs": [
    {
     "data": {
      "image/png": "[encoded data removed]",
      "text/plain": [
       "<Figure size 800x500 with 1 Axes>"
      ]
     },
     "metadata": {},
     "output_type": "display_data"
    }
   ],
   "source": [
    "# Counting occurrences of each property area type\n",
    "property_area_distribution = full_data1['Property_Area'].value_counts()\n",
    "\n",
    "# Plotting the distribution of property areas\n",
    "plt.figure(figsize=(8, 5))\n",
    "property_area_distribution.plot(kind='bar', color='purple')\n",
    "plt.title('Distribution of Properties by Area')\n",
    "plt.xlabel('Property Area')\n",
    "plt.ylabel('Number of Applications')\n",
    "plt.xticks(rotation=45)\n",
    "plt.show()\n"
   ]
  },
  {
   "cell_type": "code",
   "execution_count": null,
   "metadata": {},
   "outputs": [],
   "source": []
  },
  {
   "cell_type": "code",
   "execution_count": null,
   "metadata": {},
   "outputs": [],
   "source": []
  }
 ],
 "metadata": {
  "colab": {
   "provenance": []
  },
  "kernelspec": {
   "display_name": "Python 3 (ipykernel)",
   "language": "python",
   "name": "python3"
  },
  "language_info": {
   "codemirror_mode": {
    "name": "ipython",
    "version": 3
   },
   "file_extension": ".py",
   "mimetype": "text/x-python",
   "name": "python",
   "nbconvert_exporter": "python",
   "pygments_lexer": "ipython3",
   "version": "3.11.0"
  }
 },
 "nbformat": 4,
 "nbformat_minor": 4
}
